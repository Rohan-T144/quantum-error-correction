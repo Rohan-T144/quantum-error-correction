{
 "cells": [
  {
   "cell_type": "markdown",
   "metadata": {},
   "source": [
    "# Repetition Code Testing\n"
   ]
  },
  {
   "cell_type": "code",
   "execution_count": 7,
   "metadata": {},
   "outputs": [],
   "source": [
    "import matplotlib.pyplot as plt\n",
    "from qiskit import QuantumCircuit, Aer, assemble\n",
    "from qiskit import execute, Aer, QuantumCircuit, QuantumRegister, ClassicalRegister\n",
    "from qiskit.providers.aer.noise import NoiseModel\n",
    "from qiskit.providers.aer.noise.errors import pauli_error, depolarizing_error\n",
    "from qiskit.visualization import plot_histogram\n",
    "\n",
    "# import matplotlib.pyplot as plt\n",
    "\n",
    "# from qtcodes import RepetitionQubit\n",
    "\n",
    "# from qiskit.providers.aer.noise import NoiseModel\n",
    "# from qiskit.providers.aer.noise.errors import pauli_error, depolarizing_error\n",
    "# from qiskit.visualization import plot_histogram\n"
   ]
  },
  {
   "cell_type": "code",
   "execution_count": 4,
   "metadata": {},
   "outputs": [],
   "source": [
    "\n",
    "class RepQubit:\n",
    "\tdef __init__(self, d = 3):\n",
    "\t\tself.qr = QuantumRegister(d, name='qr')\n",
    "\t\tself.c = ClassicalRegister(d, name='c')\n",
    "\t\tself.nqr = d\n",
    "\t\tself.nanc = d-1\n",
    "\t\tself.anc = QuantumRegister(d-1, name='anc')\n",
    "\t\tself.syn = ClassicalRegister(d-1, name='syn')\n",
    "\t\tself.circ = QuantumCircuit(self.qr, self.c, self.anc, self.syn)\n",
    "\n",
    "\tdef draw(self):\n",
    "\t\treturn self.circ.draw()\n",
    "\n",
    "\tdef entangle(self):\n",
    "\t\tfor i in range(1, self.nqr):\n",
    "\t\t\tself.circ.cx(self.qr[0], self.qr[i])\n",
    "\t\tself.circ.barrier()\n",
    "\n",
    "\tdef stabilise(self):\n",
    "\t\tfor i in range(self.nqr-1):\n",
    "\t\t\tself.circ.cx(self.qr[i],self.anc[i])\n",
    "\t\t\tself.circ.cx(self.qr[i+1],self.anc[i])\n",
    "\t\tself.circ.measure(self.anc, self.syn)\n",
    "\n",
    "\t\tself.circ.reset(self.anc)\n",
    "\t\tself.circ.barrier()\n",
    "\t\t# self.circ\n",
    "\t\t# print(self.syn.instances_c)\n",
    "\n",
    "\tdef x(self):\n",
    "\t\tfor i in range(0,self.nqr):\n",
    "\t\t\tself.circ.x(self.qr[i])\n",
    "\t\tself.circ.barrier()\n"
   ]
  },
  {
   "cell_type": "code",
   "execution_count": 10,
   "metadata": {},
   "outputs": [],
   "source": [
    "def get_noise(p_meas, p_gate):\n",
    "    error_meas = pauli_error([('X', p_meas), ('I', 1 - p_meas)])\n",
    "    error_gate1 = depolarizing_error(p_gate, 1)\n",
    "    error_gate2 = error_gate1.tensor(error_gate1)\n",
    "\n",
    "    noise_model = NoiseModel()\n",
    "    noise_model.add_all_qubit_quantum_error(error_meas, \"measure\")  # measurement error is applied to measurements\n",
    "    noise_model.add_all_qubit_quantum_error(error_gate1, [\"x\"])  # single qubit gate error is applied to x gates\n",
    "    noise_model.add_all_qubit_quantum_error(error_gate2, [\"cx\"])  # two qubit gate error is applied to cx gates\n",
    "\n",
    "    return noise_model"
   ]
  },
  {
   "cell_type": "code",
   "execution_count": 59,
   "metadata": {},
   "outputs": [
    {
     "data": {
      "text/html": [
       "<pre style=\"word-wrap: normal;white-space: pre;background: #fff0;line-height: 1.1;font-family: &quot;Courier New&quot;,Courier,monospace\">                                                 ░  ░ ┌─┐                     »\n",
       "  qr_0: ──■──────────────────────────────────────░──░─┤M├─────────────────────»\n",
       "          │                                      ░  ░ └╥┘┌─┐                  »\n",
       "  qr_1: ──┼────■────■────────────────────────────░──░──╫─┤M├──────────────────»\n",
       "          │    │    │                            ░  ░  ║ └╥┘┌─┐               »\n",
       "  qr_2: ──┼────┼────┼────■────■──────────────────░──░──╫──╫─┤M├───────────────»\n",
       "          │    │    │    │    │                  ░  ░  ║  ║ └╥┘┌─┐            »\n",
       "  qr_3: ──┼────┼────┼────┼────┼────■────■────────░──░──╫──╫──╫─┤M├────────────»\n",
       "          │    │    │    │    │    │    │        ░  ░  ║  ║  ║ └╥┘┌─┐         »\n",
       "  qr_4: ──┼────┼────┼────┼────┼────┼────┼────■───░──░──╫──╫──╫──╫─┤M├─────────»\n",
       "        ┌─┴─┐┌─┴─┐  │    │    │    │    │    │   ░  ░  ║  ║  ║  ║ └╥┘┌─┐      »\n",
       " anc_0: ┤ X ├┤ X ├──┼────┼────┼────┼────┼────┼───░──░──╫──╫──╫──╫──╫─┤M├──────»\n",
       "        └───┘└───┘┌─┴─┐┌─┴─┐  │    │    │    │   ░  ░  ║  ║  ║  ║  ║ └╥┘┌─┐   »\n",
       " anc_1: ──────────┤ X ├┤ X ├──┼────┼────┼────┼───░──░──╫──╫──╫──╫──╫──╫─┤M├───»\n",
       "                  └───┘└───┘┌─┴─┐┌─┴─┐  │    │   ░  ░  ║  ║  ║  ║  ║  ║ └╥┘┌─┐»\n",
       " anc_2: ────────────────────┤ X ├┤ X ├──┼────┼───░──░──╫──╫──╫──╫──╫──╫──╫─┤M├»\n",
       "                            └───┘└───┘┌─┴─┐┌─┴─┐ ░  ░  ║  ║  ║  ║  ║  ║  ║ └╥┘»\n",
       " anc_3: ──────────────────────────────┤ X ├┤ X ├─░──░──╫──╫──╫──╫──╫──╫──╫──╫─»\n",
       "                                      └───┘└───┘ ░  ░  ║  ║  ║  ║  ║  ║  ║  ║ »\n",
       "   c: 5/═══════════════════════════════════════════════╬══╬══╬══╬══╬══╬══╬══╬═»\n",
       "                                                       ║  ║  ║  ║  ║  ║  ║  ║ »\n",
       " syn: 4/═══════════════════════════════════════════════╬══╬══╬══╬══╬══╬══╬══╬═»\n",
       "                                                       ║  ║  ║  ║  ║  ║  ║  ║ »\n",
       "meas: 9/═══════════════════════════════════════════════╩══╩══╩══╩══╩══╩══╩══╩═»\n",
       "                                                       0  1  2  3  4  5  6  7 »\n",
       "«           \n",
       "«  qr_0: ───\n",
       "«           \n",
       "«  qr_1: ───\n",
       "«           \n",
       "«  qr_2: ───\n",
       "«           \n",
       "«  qr_3: ───\n",
       "«           \n",
       "«  qr_4: ───\n",
       "«           \n",
       "« anc_0: ───\n",
       "«           \n",
       "« anc_1: ───\n",
       "«           \n",
       "« anc_2: ───\n",
       "«        ┌─┐\n",
       "« anc_3: ┤M├\n",
       "«        └╥┘\n",
       "«   c: 5/═╬═\n",
       "«         ║ \n",
       "« syn: 4/═╬═\n",
       "«         ║ \n",
       "«meas: 9/═╩═\n",
       "«         8 </pre>"
      ],
      "text/plain": [
       "                                                 ░  ░ ┌─┐                     »\n",
       "  qr_0: ──■──────────────────────────────────────░──░─┤M├─────────────────────»\n",
       "          │                                      ░  ░ └╥┘┌─┐                  »\n",
       "  qr_1: ──┼────■────■────────────────────────────░──░──╫─┤M├──────────────────»\n",
       "          │    │    │                            ░  ░  ║ └╥┘┌─┐               »\n",
       "  qr_2: ──┼────┼────┼────■────■──────────────────░──░──╫──╫─┤M├───────────────»\n",
       "          │    │    │    │    │                  ░  ░  ║  ║ └╥┘┌─┐            »\n",
       "  qr_3: ──┼────┼────┼────┼────┼────■────■────────░──░──╫──╫──╫─┤M├────────────»\n",
       "          │    │    │    │    │    │    │        ░  ░  ║  ║  ║ └╥┘┌─┐         »\n",
       "  qr_4: ──┼────┼────┼────┼────┼────┼────┼────■───░──░──╫──╫──╫──╫─┤M├─────────»\n",
       "        ┌─┴─┐┌─┴─┐  │    │    │    │    │    │   ░  ░  ║  ║  ║  ║ └╥┘┌─┐      »\n",
       " anc_0: ┤ X ├┤ X ├──┼────┼────┼────┼────┼────┼───░──░──╫──╫──╫──╫──╫─┤M├──────»\n",
       "        └───┘└───┘┌─┴─┐┌─┴─┐  │    │    │    │   ░  ░  ║  ║  ║  ║  ║ └╥┘┌─┐   »\n",
       " anc_1: ──────────┤ X ├┤ X ├──┼────┼────┼────┼───░──░──╫──╫──╫──╫──╫──╫─┤M├───»\n",
       "                  └───┘└───┘┌─┴─┐┌─┴─┐  │    │   ░  ░  ║  ║  ║  ║  ║  ║ └╥┘┌─┐»\n",
       " anc_2: ────────────────────┤ X ├┤ X ├──┼────┼───░──░──╫──╫──╫──╫──╫──╫──╫─┤M├»\n",
       "                            └───┘└───┘┌─┴─┐┌─┴─┐ ░  ░  ║  ║  ║  ║  ║  ║  ║ └╥┘»\n",
       " anc_3: ──────────────────────────────┤ X ├┤ X ├─░──░──╫──╫──╫──╫──╫──╫──╫──╫─»\n",
       "                                      └───┘└───┘ ░  ░  ║  ║  ║  ║  ║  ║  ║  ║ »\n",
       "   c: 5/═══════════════════════════════════════════════╬══╬══╬══╬══╬══╬══╬══╬═»\n",
       "                                                       ║  ║  ║  ║  ║  ║  ║  ║ »\n",
       " syn: 4/═══════════════════════════════════════════════╬══╬══╬══╬══╬══╬══╬══╬═»\n",
       "                                                       ║  ║  ║  ║  ║  ║  ║  ║ »\n",
       "meas: 9/═══════════════════════════════════════════════╩══╩══╩══╩══╩══╩══╩══╩═»\n",
       "                                                       0  1  2  3  4  5  6  7 »\n",
       "«           \n",
       "«  qr_0: ───\n",
       "«           \n",
       "«  qr_1: ───\n",
       "«           \n",
       "«  qr_2: ───\n",
       "«           \n",
       "«  qr_3: ───\n",
       "«           \n",
       "«  qr_4: ───\n",
       "«           \n",
       "« anc_0: ───\n",
       "«           \n",
       "« anc_1: ───\n",
       "«           \n",
       "« anc_2: ───\n",
       "«        ┌─┐\n",
       "« anc_3: ┤M├\n",
       "«        └╥┘\n",
       "«   c: 5/═╬═\n",
       "«         ║ \n",
       "« syn: 4/═╬═\n",
       "«         ║ \n",
       "«meas: 9/═╩═\n",
       "«         8 "
      ]
     },
     "execution_count": 59,
     "metadata": {},
     "output_type": "execute_result"
    }
   ],
   "source": [
    "nd = 5\n",
    "qubit = RepQubit(nd)\n",
    "# qubit.x()\n",
    "qubit.stabilise()\n",
    "\n",
    "qubit.circ.measure_all()\n",
    "\n",
    "qubit.draw()"
   ]
  },
  {
   "cell_type": "code",
   "execution_count": 21,
   "metadata": {},
   "outputs": [],
   "source": [
    "from pymatching import Matching\n",
    "import numpy as np\n",
    "\n",
    "class RepDecoder:\n",
    "    def __init__(self, d = 3):\n",
    "        hzl = []\n",
    "        for i in range(d-1):\n",
    "            row = [0]*d; row[i] = 1; row[i+1] = 1\n",
    "            hzl.append(row)\n",
    "        self.Hz = np.array(hzl)\n",
    "        # print(self.Hz)\n",
    "        self.d = d\n",
    "        self.match = Matching(self.Hz)\n",
    "        # self.match.draw()\n",
    "\n",
    "    def correctreadout(self, repbits, anc):\n",
    "        syn = np.array(list(map(int, [*anc])))\n",
    "        # print(syn)\n",
    "        c = self.match.decode(syn)\n",
    "        readout = list(map(int, [*repbits]))\n",
    "        # print(c)\n",
    "        for i, v in enumerate(c):\n",
    "            if v==1:\n",
    "                # pass\n",
    "                readout[i] = 1-readout[i]\n",
    "        return readout\n",
    "\n",
    "    def getlogbit(self, readout):\n",
    "        numofbit = [0, 0]\n",
    "        for bit in readout:\n",
    "            numofbit[bit] += 1\n",
    "        if numofbit[0] > numofbit[1]:\n",
    "            return 0\n",
    "        else:\n",
    "            return 1\n",
    "    \n",
    "    "
   ]
  },
  {
   "cell_type": "code",
   "execution_count": 70,
   "metadata": {},
   "outputs": [
    {
     "name": "stdout",
     "output_type": "stream",
     "text": [
      "0.14210000000000003\n"
     ]
    }
   ],
   "source": [
    "numshots = 10000\n",
    "perror = 0.0\n",
    "counts = execute(qubit.circ, Aer.get_backend('qasm_simulator'), noise_model=get_noise(0.1,0.1), shots=numshots).result().get_counts()\n",
    "decoder = RepDecoder(qubit.nqr)\n",
    "for bitstr in counts:\n",
    "    d = qubit.nqr\n",
    "    meas = bitstr.split()[0]\n",
    "    repbits = meas[:d]\n",
    "    ancbits = meas[d:]\n",
    "    res = decoder.correctreadout(repbits, ancbits)\n",
    "    outbit = decoder.getlogbit(res)\n",
    "    # print(bitstr, counts[bitstr])\n",
    "    # print(res)\n",
    "    # print(outbit)\n",
    "    if outbit!=0:\n",
    "        perror += counts[bitstr] / numshots\n",
    "# print(counts)\n",
    "print(perror)"
   ]
  },
  {
   "cell_type": "code",
   "execution_count": 12,
   "metadata": {},
   "outputs": [
    {
     "name": "stdout",
     "output_type": "stream",
     "text": [
      "0.0012000000000000003\n"
     ]
    },
    {
     "data": {
      "text/plain": [
       "0.0012000000000000003"
      ]
     },
     "execution_count": 12,
     "metadata": {},
     "output_type": "execute_result"
    }
   ],
   "source": [
    "def testrep(d, p_meas, p_gate):\n",
    "    # d = 5\n",
    "    qubit = RepQubit(d)\n",
    "    # qubit.x()\n",
    "    qubit.stabilise()\n",
    "    qubit.circ.measure_all()\n",
    "    # print(qubit.draw())\n",
    "    numshots = 10000\n",
    "\n",
    "    perror = 0.0\n",
    "    counts = execute(qubit.circ, Aer.get_backend('qasm_simulator'), noise_model=get_noise(p_meas, p_gate), shots=numshots).result().get_counts()\n",
    "    # print(counts)\n",
    "    decoder = RepDecoder(qubit.nqr)\n",
    "    for bitstr in counts:\n",
    "        d = qubit.nqr\n",
    "        meas = bitstr.split()[0]\n",
    "        repbits = meas[:d]\n",
    "        ancbits = meas[d:]\n",
    "        # res = decoder.correctreadout(repbits, ancbits)\n",
    "        # outbit = decoder.getlogbit(res)\n",
    "        outbit = decoder.getlogbit(list(map(int, [*repbits])))\n",
    "        # print(bitstr, counts[bitstr])\n",
    "        # print(res)\n",
    "        # print(outbit)\n",
    "        # print(bitstr, counts[bitstr])\n",
    "        # print(res)\n",
    "        if outbit!=0:\n",
    "            perror += counts[bitstr] / numshots\n",
    "    # print(counts)\n",
    "    print(perror)\n",
    "    return perror\n",
    "\n",
    "testrep(5, 0.05, 0.05)"
   ]
  },
  {
   "cell_type": "code",
   "execution_count": 140,
   "metadata": {},
   "outputs": [
    {
     "ename": "TypeError",
     "evalue": "testrep() missing 1 required positional argument: 'p_gate'",
     "output_type": "error",
     "traceback": [
      "\u001b[0;31m---------------------------------------------------------------------------\u001b[0m",
      "\u001b[0;31mTypeError\u001b[0m                                 Traceback (most recent call last)",
      "\u001b[0;32m/var/folders/7_/wgkmft5d18vgfm8cd9b8yd800000gn/T/ipykernel_45352/1479822393.py\u001b[0m in \u001b[0;36m<module>\u001b[0;34m\u001b[0m\n\u001b[1;32m      3\u001b[0m \u001b[0myvals\u001b[0m \u001b[0;34m=\u001b[0m \u001b[0;34m[\u001b[0m\u001b[0;34m]\u001b[0m\u001b[0;34m\u001b[0m\u001b[0;34m\u001b[0m\u001b[0m\n\u001b[1;32m      4\u001b[0m \u001b[0;32mfor\u001b[0m \u001b[0mx\u001b[0m \u001b[0;32min\u001b[0m \u001b[0mxvals\u001b[0m\u001b[0;34m:\u001b[0m\u001b[0;34m\u001b[0m\u001b[0;34m\u001b[0m\u001b[0m\n\u001b[0;32m----> 5\u001b[0;31m     \u001b[0myvals\u001b[0m\u001b[0;34m.\u001b[0m\u001b[0mappend\u001b[0m\u001b[0;34m(\u001b[0m\u001b[0mtestrep\u001b[0m\u001b[0;34m(\u001b[0m\u001b[0;36m7\u001b[0m\u001b[0;34m,\u001b[0m \u001b[0mx\u001b[0m\u001b[0;34m)\u001b[0m\u001b[0;34m)\u001b[0m\u001b[0;34m\u001b[0m\u001b[0;34m\u001b[0m\u001b[0m\n\u001b[0m\u001b[1;32m      6\u001b[0m \u001b[0mplt\u001b[0m\u001b[0;34m.\u001b[0m\u001b[0mplot\u001b[0m\u001b[0;34m(\u001b[0m\u001b[0mxvals\u001b[0m\u001b[0;34m,\u001b[0m \u001b[0myvals\u001b[0m\u001b[0;34m)\u001b[0m\u001b[0;34m\u001b[0m\u001b[0;34m\u001b[0m\u001b[0m\n\u001b[1;32m      7\u001b[0m \u001b[0mxt\u001b[0m \u001b[0;34m=\u001b[0m \u001b[0mnp\u001b[0m\u001b[0;34m.\u001b[0m\u001b[0marange\u001b[0m\u001b[0;34m(\u001b[0m\u001b[0;36m0\u001b[0m\u001b[0;34m,\u001b[0m \u001b[0;36m0.2\u001b[0m\u001b[0;34m,\u001b[0m \u001b[0;36m0.02\u001b[0m\u001b[0;34m)\u001b[0m\u001b[0;34m\u001b[0m\u001b[0;34m\u001b[0m\u001b[0m\n",
      "\u001b[0;31mTypeError\u001b[0m: testrep() missing 1 required positional argument: 'p_gate'"
     ]
    }
   ],
   "source": [
    "# testrep(3, 0.1)\n",
    "xvals = [0, 0.02, 0.04, 0.06, 0.08, 0.1, 0.15, 0.2]\n",
    "yvals = []\n",
    "for x in xvals:\n",
    "    yvals.append(testrep(3, x))\n",
    "plt.plot(xvals, yvals)\n",
    "xt = np.arange(0, 0.2, 0.02)\n",
    "plt.plot(xt, xt, color ='tab:orange')\n",
    "plt.show()"
   ]
  },
  {
   "cell_type": "code",
   "execution_count": 147,
   "metadata": {},
   "outputs": [
    {
     "name": "stdout",
     "output_type": "stream",
     "text": [
      "0.09190000000000001\n",
      "0.04090000000000008\n",
      "0.01919999999999994\n",
      "0.0078000000000000074\n",
      "0.004499999999999999\n"
     ]
    },
    {
     "data": {
      "text/plain": [
       "[<matplotlib.lines.Line2D at 0x12c1df400>]"
      ]
     },
     "execution_count": 147,
     "metadata": {},
     "output_type": "execute_result"
    },
    {
     "data": {
      "image/png": "[encoded data removed]",
      "text/plain": [
       "<Figure size 432x288 with 1 Axes>"
      ]
     },
     "metadata": {
      "needs_background": "light"
     },
     "output_type": "display_data"
    }
   ],
   "source": [
    "xv = range(3, 12, 2)\n",
    "yv = []\n",
    "from math import pi\n",
    "for x in xv:\n",
    "    yv.append(testrep(x,pi/20, pi/10))\n",
    "plt.plot(xv, yv)\n",
    "# plt.plot(xv, [pi/10]*len(yv))\n"
   ]
  },
  {
   "cell_type": "code",
   "execution_count": 15,
   "metadata": {},
   "outputs": [],
   "source": [
    "def testrepwithdecode(d, p_meas, p_gate):\n",
    "    # d = 5\n",
    "    qubit = RepQubit(d)\n",
    "    # qubit.x()\n",
    "    qubit.stabilise()\n",
    "    qubit.circ.measure_all()\n",
    "    # print(qubit.draw())\n",
    "    numshots = 10000\n",
    "\n",
    "    perror = 0.0\n",
    "    counts = execute(qubit.circ, Aer.get_backend('qasm_simulator'), noise_model=get_noise(p_meas, p_gate), shots=numshots).result().get_counts()\n",
    "    decoder = RepDecoder(qubit.nqr)\n",
    "    cnts = []\n",
    "    for bitstr in counts:\n",
    "        d = qubit.nqr\n",
    "        meas = bitstr.split()[0]\n",
    "        repbits = meas[:d]\n",
    "        ancbits = meas[d:]\n",
    "        # ancbits = bitstr.split()[1]\n",
    "        res = decoder.correctreadout(repbits, ancbits)\n",
    "        outbit = decoder.getlogbit(res)\n",
    "        # outbit = decoder.getlogbit(list(map(int, [*repbits])))\n",
    "        # print(bitstr, counts[bitstr])\n",
    "        # print(res)\n",
    "        # print(outbit)\n",
    "        # print(bitstr, counts[bitstr])\n",
    "        # print(res)\n",
    "        # cnts.append((counts[bitstr], res, bitstr))\n",
    "        if outbit!=0:\n",
    "            perror += counts[bitstr] / numshots\n",
    "    # print(counts)\n",
    "    # for x in reversed(sorted(cnts)):\n",
    "    #     print(x)\n",
    "    print(perror)\n",
    "    return perror"
   ]
  },
  {
   "cell_type": "code",
   "execution_count": 165,
   "metadata": {},
   "outputs": [
    {
     "name": "stdout",
     "output_type": "stream",
     "text": [
      "0.14010000000000006\n"
     ]
    },
    {
     "data": {
      "text/plain": [
       "0.14010000000000006"
      ]
     },
     "execution_count": 165,
     "metadata": {},
     "output_type": "execute_result"
    }
   ],
   "source": [
    "testrepwithdecode(3, 0, pi/10)"
   ]
  },
  {
   "cell_type": "code",
   "execution_count": 16,
   "metadata": {},
   "outputs": [
    {
     "name": "stdout",
     "output_type": "stream",
     "text": [
      "0.1991\n",
      "0.20109999999999922\n",
      "0.20309999999999542\n",
      "0.20309999999999415\n",
      "0.1980999999999945\n"
     ]
    },
    {
     "data": {
      "text/plain": [
       "[<matplotlib.lines.Line2D at 0x13856c0a0>]"
      ]
     },
     "execution_count": 16,
     "metadata": {},
     "output_type": "execute_result"
    },
    {
     "data": {
      "image/png": "[encoded data removed]",
      "text/plain": [
       "<Figure size 432x288 with 1 Axes>"
      ]
     },
     "metadata": {
      "needs_background": "light"
     },
     "output_type": "display_data"
    }
   ],
   "source": [
    "xv = range(3, 12, 2)\n",
    "yv = []\n",
    "from math import pi\n",
    "for x in xv:\n",
    "    yv.append(testrepwithdecode(x, pi/20, pi/10))\n",
    "plt.plot(xv, yv)"
   ]
  },
  {
   "cell_type": "code",
   "execution_count": 23,
   "metadata": {},
   "outputs": [
    {
     "name": "stdout",
     "output_type": "stream",
     "text": [
      "0.023499999999999993\n"
     ]
    },
    {
     "data": {
      "text/plain": [
       "0.023499999999999993"
      ]
     },
     "execution_count": 23,
     "metadata": {},
     "output_type": "execute_result"
    }
   ],
   "source": [
    "def testrep(d, p_meas, p_gate):\n",
    "    # d = 5\n",
    "    qubit = RepQubit(d)\n",
    "    # qubit.x()\n",
    "    qubit.stabilise()\n",
    "    qubit.circ.measure_all()\n",
    "    # print(qubit.draw())\n",
    "    numshots = 10000\n",
    "\n",
    "    perror = 0.0\n",
    "    counts = execute(qubit.circ, Aer.get_backend('qasm_simulator'), noise_model=get_noise(p_meas, p_gate), shots=numshots).result().get_counts()\n",
    "    # print(counts)\n",
    "    decoder = RepDecoder(qubit.nqr)\n",
    "    for bitstr in counts:\n",
    "        d = qubit.nqr\n",
    "        meas = bitstr.split()[0]\n",
    "        repbits = meas[:d]\n",
    "        ancbits = meas[d:]\n",
    "        res = decoder.correctreadout(repbits, ancbits)\n",
    "        # outbit = decoder.getlogbit(res)\n",
    "        # res = list(map(int, [*repbits]))\n",
    "        outbit = decoder.getlogbit(res)\n",
    "        # print(bitstr, counts[bitstr])\n",
    "        # print(res)\n",
    "        # print(outbit)\n",
    "        # print(bitstr, counts[bitstr])\n",
    "        # print(res)\n",
    "        if outbit!=0:\n",
    "            perror += counts[bitstr] / numshots\n",
    "    # print(counts)\n",
    "    print(perror)\n",
    "    return perror\n",
    "\n",
    "testrep(5, 0.05, 0.05)"
   ]
  },
  {
   "cell_type": "code",
   "execution_count": 25,
   "metadata": {},
   "outputs": [
    {
     "name": "stdout",
     "output_type": "stream",
     "text": [
      "0.025999999999999992\n",
      "0.026999999999999996\n",
      "0.025099999999999976\n",
      "0.02619999999999996\n",
      "0.03579999999999997\n",
      "0.03429999999999997\n"
     ]
    },
    {
     "data": {
      "image/png": "[encoded data removed]",
      "text/plain": [
       "<Figure size 432x288 with 1 Axes>"
      ]
     },
     "metadata": {
      "needs_background": "light"
     },
     "output_type": "display_data"
    }
   ],
   "source": [
    "def testrep_test(d, p_meas, p_gate):\n",
    "    # d = 5\n",
    "    qubit = RepQubit(d)\n",
    "    # qubit.x()\n",
    "    qubit.stabilise()\n",
    "    qubit.circ.measure_all()\n",
    "    # print(qubit.draw())\n",
    "    numshots = 10000\n",
    "\n",
    "    perror = 0.0\n",
    "    counts = execute(qubit.circ, Aer.get_backend('qasm_simulator'), noise_model=get_noise(p_meas, p_gate), shots=numshots).result().get_counts()\n",
    "    # print(counts)\n",
    "    decoder = RepDecoder(qubit.nqr)\n",
    "    for bitstr in counts:\n",
    "        d = qubit.nqr\n",
    "        meas = bitstr.split()[0]\n",
    "        repbits = meas[:d]\n",
    "        ancbits = meas[d:]\n",
    "        res = decoder.correctreadout(repbits, ancbits)\n",
    "        # outbit = decoder.getlogbit(res)\n",
    "        # res = list(map(int, [*repbits]))\n",
    "        outbit = decoder.getlogbit(res)\n",
    "        # print(bitstr, counts[bitstr])\n",
    "        # print(res)\n",
    "        # print(outbit)\n",
    "        # print(bitstr, counts[bitstr])\n",
    "        # print(res)\n",
    "        if outbit!=0:\n",
    "            perror += counts[bitstr] / numshots\n",
    "    # print(counts)\n",
    "    print(perror)\n",
    "    return perror\n",
    "\n",
    "testrep_test(5, 0.05, 0.05)\n",
    "xv = range(3, 12, 2)\n",
    "yv = []\n",
    "from math import pi\n",
    "for x in xv:\n",
    "    yv.append(testrep_test(x, 0.05, 0.05))\n",
    "plt.plot(xv, yv)\n",
    "plt.show()"
   ]
  }
 ],
 "metadata": {
  "kernelspec": {
   "display_name": "Python 3.10.1 64-bit",
   "language": "python",
   "name": "python3"
  },
  "language_info": {
   "codemirror_mode": {
    "name": "ipython",
    "version": 3
   },
   "file_extension": ".py",
   "mimetype": "text/x-python",
   "name": "python",
   "nbconvert_exporter": "python",
   "pygments_lexer": "ipython3",
   "version": "3.10.1"
  },
  "orig_nbformat": 4,
  "vscode": {
   "interpreter": {
    "hash": "aee8b7b246df8f9039afb4144a1f6fd8d2ca17a180786b69acc140d282b71a49"
   }
  }
 },
 "nbformat": 4,
 "nbformat_minor": 2
}
