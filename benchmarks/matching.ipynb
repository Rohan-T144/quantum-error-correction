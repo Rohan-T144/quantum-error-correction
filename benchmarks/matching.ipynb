{
 "cells": [
  {
   "cell_type": "code",
   "execution_count": 1,
   "metadata": {},
   "outputs": [],
   "source": [
    "import matplotlib.pyplot as plt\n",
    "from qiskit import QuantumCircuit, Aer, assemble\n",
    "from qiskit import execute, Aer, QuantumCircuit, QuantumRegister, ClassicalRegister\n",
    "from qiskit.providers.aer.noise import NoiseModel\n",
    "from qiskit.providers.aer.noise.errors import pauli_error, depolarizing_error\n",
    "from qiskit.visualization import plot_histogram\n",
    "\n",
    "from pymatching import Matching\n",
    "import numpy as np"
   ]
  },
  {
   "cell_type": "code",
   "execution_count": 2,
   "metadata": {},
   "outputs": [],
   "source": [
    "def get_noise(p_meas,p_gate):\n",
    "    error_meas = pauli_error([('X',p_meas), ('I', 1 - p_meas)])\n",
    "    # eg = pauli_error([('X',p_gate), ('I', 1 - p_gate)])\n",
    "    error_gate1 = depolarizing_error(p_gate, 1)\n",
    "    error_gate2 = error_gate1.tensor(error_gate1)\n",
    "\n",
    "    noise_model = NoiseModel()\n",
    "    noise_model.add_all_qubit_quantum_error(error_meas, \"measure\") # measurement error is applied to measurements\n",
    "    noise_model.add_all_qubit_quantum_error(error_gate1, [\"x\"]) # single qubit gate error is applied to x gates\n",
    "    # noise_model.add_all_qubit_quantum_error(error_gate2, [\"cx\"]) # two qubit gate error is applied to cx gates\n",
    "    noise_model.add_all_qubit_quantum_error(error_gate1, [\"id\"])\n",
    "    return noise_model"
   ]
  },
  {
   "cell_type": "code",
   "execution_count": 3,
   "metadata": {},
   "outputs": [],
   "source": [
    "class RepQubit:\n",
    "\tdef __init__(self, d = 3, reps = 1):\n",
    "\t\tself.qr = QuantumRegister(d, name='qr')\n",
    "\t\tself.c = ClassicalRegister(d, name='c')\n",
    "\t\tself.nqr = d\n",
    "\t\tself.nanc = d-1\n",
    "\t\tself.anc = QuantumRegister(self.nanc, name='anc')\n",
    "\t\tself.link = []\n",
    "\t\tfor i in range(reps):\n",
    "\t\t\tself.link.append(ClassicalRegister(self.nanc, name=f'link_{i}_qr'))\n",
    "\t\t# self.syn = ClassicalRegister(self.nanc * reps, name='syn')\n",
    "\t\tself.circ = QuantumCircuit(self.qr, self.c, self.anc, *self.link)\n",
    "\t\tself.reps = reps\n",
    "\n",
    "\n",
    "\tdef draw(self):\n",
    "\t\treturn self.circ.draw()\n",
    "\n",
    "\tdef entangle(self):\n",
    "\t\tfor i in range(1, self.nqr):\n",
    "\t\t\tself.circ.cx(self.qr[0], self.qr[i])\n",
    "\t\tself.circ.barrier()\n",
    "\n",
    "\tdef stabilise(self, i = 0):\n",
    "\t\tself.circ.barrier()\n",
    "\t\tfor x in range(self.nqr):\n",
    "\t\t\tself.circ.id(self.qr[x])\n",
    "\t\t\t# self.circ.x(self.qr[x])\n",
    "\t\tself.circ.barrier()\n",
    "\t\tfor x in range(self.nqr-1):\n",
    "\t\t\tself.circ.cx(self.qr[x],self.anc[x])\n",
    "\t\t\tself.circ.cx(self.qr[x+1],self.anc[x])\n",
    "\t\tself.circ.barrier()\n",
    "\t\tself.circ.measure(self.anc, self.link[i])\n",
    "\t\t# self.circ.measure(self.anc, self.syn())\n",
    "\t\t# self.circ.reset(self.anc)\n",
    "\t\t# self.circ.barrier()\n",
    "\t\t# self.circ\n",
    "\t\t# print(self.syn.instances_c)"
   ]
  },
  {
   "cell_type": "code",
   "execution_count": 4,
   "metadata": {},
   "outputs": [
    {
     "name": "stdout",
     "output_type": "stream",
     "text": [
      "              ░ ┌───┐ ░                      ░       ┌─┐      \n",
      "       qr_0: ─░─┤ I ├─░───■──────────────────░───────┤M├──────\n",
      "              ░ ├───┤ ░   │                  ░       └╥┘┌─┐   \n",
      "       qr_1: ─░─┤ I ├─░───┼────■────■────────░────────╫─┤M├───\n",
      "              ░ ├───┤ ░   │    │    │        ░        ║ └╥┘┌─┐\n",
      "       qr_2: ─░─┤ I ├─░───┼────┼────┼────■───░────────╫──╫─┤M├\n",
      "              ░ └───┘ ░ ┌─┴─┐┌─┴─┐  │    │   ░ ┌─┐    ║  ║ └╥┘\n",
      "      anc_0: ─░───────░─┤ X ├┤ X ├──┼────┼───░─┤M├────╫──╫──╫─\n",
      "              ░       ░ └───┘└───┘┌─┴─┐┌─┴─┐ ░ └╥┘┌─┐ ║  ║  ║ \n",
      "      anc_1: ─░───────░───────────┤ X ├┤ X ├─░──╫─┤M├─╫──╫──╫─\n",
      "              ░       ░           └───┘└───┘ ░  ║ └╥┘ ║  ║  ║ \n",
      "        c: 3/═══════════════════════════════════╬══╬══╩══╩══╩═\n",
      "                                                ║  ║  0  1  2 \n",
      "                                                ║  ║          \n",
      "link_0_qr: 2/═══════════════════════════════════╩══╩══════════\n",
      "                                                0  1          \n",
      "{'10 100': 21, '11 010': 22, '01 001': 23, '10 011': 2, '00 000': 932}\n"
     ]
    }
   ],
   "source": [
    "qubit = RepQubit(3)\n",
    "qubit.stabilise(0)\n",
    "qubit.circ.measure(qubit.qr, qubit.c)\n",
    "print(qubit.draw())\n",
    "counts = execute(\n",
    "    qubit.circ, \n",
    "    Aer.get_backend('qasm_simulator'), \n",
    "    noise_model=get_noise(0, 0.05), \n",
    "    optimization_level=0,\n",
    "    shots=1000\n",
    ").result().get_counts()\n",
    "print(counts)\n",
    "\n"
   ]
  },
  {
   "cell_type": "code",
   "execution_count": 5,
   "metadata": {},
   "outputs": [],
   "source": [
    "class RepDecoder:\n",
    "\tdef __init__(self, d,p_meas, p_gate):\n",
    "\t\thzl = []\n",
    "\t\tfor i in range(d-1):\n",
    "\t\t\trow = [0]*d; row[i] = 1; row[i+1] = 1\n",
    "\t\t\thzl.append(row)\n",
    "\t\tself.Hz = np.array(hzl)\n",
    "\t\t# print(f'Hz: {self.Hz}')\n",
    "\t\tself.d = d\n",
    "\t\tself.match = Matching(\n",
    "\t\t\tself.Hz,\n",
    "\t\t\t# spacelike_weights=np.log((1-p_gate)/p_gate),\n",
    "\t\t\t# repetitions=1,\n",
    "\t\t\t# timelike_weights=np.log((1-p_meas)/p_meas)\n",
    "\t\t)\n",
    "\t\t# Matching.add_noise()\n",
    "\t\t# self.match.draw()\n",
    "\n",
    "\tdef correct(self, out, syn):\n",
    "\t\tc = self.match.decode(syn)\n",
    "\t\treturn (out + c)%2\n",
    "\n",
    "\tdef getlogbit(self, readout):\n",
    "\t\ts = sum(readout)\n",
    "\t\tif 2*s <= self.d:\n",
    "\t\t\treturn 0\n",
    "\t\telse:\n",
    "\t\t\treturn 1"
   ]
  },
  {
   "cell_type": "code",
   "execution_count": 6,
   "metadata": {},
   "outputs": [],
   "source": [
    "def testrep(d, reps, p_meas, p_gate):\n",
    "    qubit = RepQubit(d, reps)\n",
    "    for i in range(reps):\n",
    "        qubit.stabilise(i)\n",
    "    qubit.circ.measure(qubit.qr, qubit.c)\n",
    "    # print(qubit.draw())\n",
    "    SHOTS = 10000\n",
    "    counts = execute(\n",
    "\t\tqubit.circ, \n",
    "\t\tAer.get_backend('qasm_simulator'), \n",
    "\t\tnoise_model=get_noise(p_meas, p_gate), \n",
    "\t\toptimization_level=0,\n",
    "\t\tshots=SHOTS\n",
    "\t).result().get_counts()\n",
    "\n",
    "    decoder = RepDecoder(d, p_meas, p_gate)\n",
    "    errcnt = 0\n",
    "    # print(counts)\n",
    "    for bitstr in counts:\n",
    "        meas = bitstr.split()\n",
    "        # print(bitstr)\n",
    "        out = np.array(list(map(int, [*meas[-1]])))\n",
    "        syn = np.array(list(map(int, [*meas[0]])))\n",
    "\n",
    "        out = decoder.correct(out, syn)\n",
    "        outbit = decoder.getlogbit(out)\n",
    "        if outbit != 0:\n",
    "            errcnt += counts[bitstr]\n",
    "\n",
    "    perr = errcnt / SHOTS; print(perr)\n",
    "    return perr\n"
   ]
  },
  {
   "cell_type": "code",
   "execution_count": 7,
   "metadata": {},
   "outputs": [
    {
     "name": "stdout",
     "output_type": "stream",
     "text": [
      "              ░ ┌───┐ ░                      ░       ┌─┐      \n",
      "       qr_0: ─░─┤ I ├─░───■──────────────────░───────┤M├──────\n",
      "              ░ ├───┤ ░   │                  ░       └╥┘┌─┐   \n",
      "       qr_1: ─░─┤ I ├─░───┼────■────■────────░────────╫─┤M├───\n",
      "              ░ ├───┤ ░   │    │    │        ░        ║ └╥┘┌─┐\n",
      "       qr_2: ─░─┤ I ├─░───┼────┼────┼────■───░────────╫──╫─┤M├\n",
      "              ░ └───┘ ░ ┌─┴─┐┌─┴─┐  │    │   ░ ┌─┐    ║  ║ └╥┘\n",
      "      anc_0: ─░───────░─┤ X ├┤ X ├──┼────┼───░─┤M├────╫──╫──╫─\n",
      "              ░       ░ └───┘└───┘┌─┴─┐┌─┴─┐ ░ └╥┘┌─┐ ║  ║  ║ \n",
      "      anc_1: ─░───────░───────────┤ X ├┤ X ├─░──╫─┤M├─╫──╫──╫─\n",
      "              ░       ░           └───┘└───┘ ░  ║ └╥┘ ║  ║  ║ \n",
      "        c: 3/═══════════════════════════════════╬══╬══╩══╩══╩═\n",
      "                                                ║  ║  0  1  2 \n",
      "                                                ║  ║          \n",
      "link_0_qr: 2/═══════════════════════════════════╩══╩══════════\n",
      "                                                0  1          \n",
      "{'10 100': 27, '01 001': 27, '11 010': 32, '00 000': 914}\n",
      "0\n",
      "0\n",
      "0\n",
      "0\n"
     ]
    }
   ],
   "source": [
    "qubit = RepQubit(3)\n",
    "qubit.stabilise(0)\n",
    "qubit.circ.measure(qubit.qr, qubit.c)\n",
    "print(qubit.draw())\n",
    "counts = execute(\n",
    "    qubit.circ, \n",
    "    Aer.get_backend('qasm_simulator'), \n",
    "    noise_model=get_noise(0, 0.05), \n",
    "    optimization_level=0,\n",
    "    shots=1000\n",
    ").result().get_counts()\n",
    "print(counts)\n",
    "\n",
    "\n",
    "decoder = RepDecoder(3, 0.01, 0.05)\n",
    "errcnt = 0\n",
    "# print(counts)\n",
    "for bitstr in counts:\n",
    "    meas = bitstr.split()\n",
    "    # print(bitstr)\n",
    "    out = np.array(list(map(int, [*meas[-1]])))\n",
    "    syn = np.array(list(map(int, [*meas[0]])))\n",
    "\n",
    "    out = decoder.correct(out, syn)\n",
    "    outbit = decoder.getlogbit(out)\n",
    "    print(outbit)"
   ]
  },
  {
   "cell_type": "code",
   "execution_count": 8,
   "metadata": {},
   "outputs": [
    {
     "name": "stdout",
     "output_type": "stream",
     "text": [
      "0.001\n",
      "0.0324\n",
      "0.0951\n",
      "0.1709\n",
      "0.2535\n",
      "0.3266\n",
      "0.3903\n",
      "0.4358\n",
      "0.4815\n",
      "0.4961\n",
      "0.0007\n",
      "0.0325\n",
      "0.0875\n",
      "0.1656\n",
      "0.2459\n",
      "0.3184\n",
      "0.3846\n",
      "0.4428\n",
      "0.4788\n",
      "0.4937\n",
      "0.001\n",
      "0.0352\n",
      "0.0974\n",
      "0.1653\n",
      "0.2497\n",
      "0.3175\n",
      "0.3897\n",
      "0.4351\n",
      "0.4655\n",
      "0.5028\n"
     ]
    },
    {
     "data": {
      "image/png": "[encoded data removed]",
      "text/plain": [
       "<Figure size 432x288 with 1 Axes>"
      ]
     },
     "metadata": {
      "needs_background": "light"
     },
     "output_type": "display_data"
    }
   ],
   "source": [
    "# testrep(3, 1, 0, 0.05)\n",
    "xv = np.linspace(0.01, 0.5, 10)\n",
    "yvs = []\n",
    "plt.plot(xv, xv)\n",
    "for i in range(3, 8, 2):\n",
    "    yv = [testrep(i, 1, p, p) for p in xv]\n",
    "    plt.plot(xv, yv)\n",
    "# plt.plot(xv, yv)"
   ]
  }
 ],
 "metadata": {
  "kernelspec": {
   "display_name": "Python 3.10.1 64-bit",
   "language": "python",
   "name": "python3"
  },
  "language_info": {
   "codemirror_mode": {
    "name": "ipython",
    "version": 3
   },
   "file_extension": ".py",
   "mimetype": "text/x-python",
   "name": "python",
   "nbconvert_exporter": "python",
   "pygments_lexer": "ipython3",
   "version": "3.10.1"
  },
  "orig_nbformat": 4,
  "vscode": {
   "interpreter": {
    "hash": "aee8b7b246df8f9039afb4144a1f6fd8d2ca17a180786b69acc140d282b71a49"
   }
  }
 },
 "nbformat": 4,
 "nbformat_minor": 2
}
